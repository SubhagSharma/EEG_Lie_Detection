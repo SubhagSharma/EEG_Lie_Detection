{
 "cells": [
  {
   "cell_type": "markdown",
   "id": "8f5bc3b9",
   "metadata": {},
   "source": [
    "<b>DOCUMENTATION</b> (Notes)<br>\n",
    "13.1, 4.1 files in lying->irrelevant, lying->probe are missing."
   ]
  },
  {
   "cell_type": "code",
   "execution_count": 257,
   "id": "bf7d8636",
   "metadata": {},
   "outputs": [],
   "source": [
    "import numpy as np\n",
    "import pandas as pd\n",
    "import matplotlib.pyplot as plt\n",
    "import seaborn as sns\n",
    "sns.set()\n",
    "from statistics import mean\n",
    "import csv\n",
    "from sklearn.preprocessing import MinMaxScaler\n",
    "# import modin.pandas as pd        # Modin import as a parallel computing library\n",
    "\n",
    "# Tenserflow import\n",
    "import tensorflow as tf\n",
    "from tensorflow import keras\n",
    "from tensorflow.keras.layers import Input, Dense, Flatten\n",
    "from tensorflow.keras.optimizers import Adam\n",
    "from tensorflow.keras.models import Sequential\n",
    "from tensorflow.keras.callbacks import EarlyStopping"
   ]
  },
  {
   "cell_type": "code",
   "execution_count": 258,
   "id": "87a5fc90",
   "metadata": {},
   "outputs": [],
   "source": [
    "import csv\n",
    "import os\n",
    "from pathlib import Path,PureWindowsPath\n",
    "from fnmatch import fnmatch\n",
    "import winsound\n",
    "import os,glob"
   ]
  },
  {
   "cell_type": "code",
   "execution_count": 259,
   "id": "b30d7b2a",
   "metadata": {},
   "outputs": [],
   "source": [
    "import winsound\n",
    "duration = 1000  # milliseconds\n",
    "freq = 440  # Hz"
   ]
  },
  {
   "cell_type": "code",
   "execution_count": 347,
   "id": "14891c6a",
   "metadata": {},
   "outputs": [],
   "source": [
    "import os,glob\n",
    "def path_list():\n",
    "    paths=[]\n",
    "    folder_path = r\"C:\\Users\\mrsub\\ML\\Minor-Project I\\All data for 14 electrodes and 30 subjects\\All Data csv\\Lying\\Target\\Target Excel\\Validation\"\n",
    "    for filename in glob.glob(os.path.join(folder_path, '*.xlsx')):\n",
    "        with open(filename, 'r') as f:\n",
    "    #     text = f.read()\n",
    "        paths.append(filename)\n",
    "    #     print (len(text))\n",
    "    return paths"
   ]
  },
  {
   "cell_type": "code",
   "execution_count": 348,
   "id": "c884ea1d",
   "metadata": {},
   "outputs": [],
   "source": [
    "paths=path_list()\n",
    "#print(paths[:10])"
   ]
  },
  {
   "cell_type": "code",
   "execution_count": 349,
   "id": "3654c17c",
   "metadata": {},
   "outputs": [
    {
     "data": {
      "text/plain": [
       "18"
      ]
     },
     "execution_count": 349,
     "metadata": {},
     "output_type": "execute_result"
    }
   ],
   "source": [
    "len(paths)"
   ]
  },
  {
   "cell_type": "code",
   "execution_count": 350,
   "id": "2249efbc",
   "metadata": {},
   "outputs": [],
   "source": [
    "def loading():\n",
    "    sixth=[]\n",
    "    count=0\n",
    "    for i in range(len(paths)):\n",
    "        filename = paths[i]\n",
    "        data =pd.read_excel(filename,header=None)\n",
    "        data.dropna(inplace = True)\n",
    "#         print((data.loc[9:10,:15199]).shape)\n",
    "        count+=1\n",
    "        print(count)\n",
    "        sixth.append(data.loc[20])\n",
    "    winsound.Beep(freq, duration)\n",
    "    winsound.Beep(freq, duration)\n",
    "    winsound.Beep(freq, duration)\n",
    "    return sixth"
   ]
  },
  {
   "cell_type": "code",
   "execution_count": 351,
   "id": "ed06b191",
   "metadata": {},
   "outputs": [
    {
     "name": "stdout",
     "output_type": "stream",
     "text": [
      "1\n",
      "2\n",
      "3\n",
      "4\n",
      "5\n",
      "6\n",
      "7\n",
      "8\n",
      "9\n",
      "10\n",
      "11\n",
      "12\n",
      "13\n",
      "14\n",
      "15\n",
      "16\n",
      "17\n",
      "18\n"
     ]
    }
   ],
   "source": [
    "sixth=loading()"
   ]
  },
  {
   "cell_type": "code",
   "execution_count": 352,
   "id": "2eda7ca4",
   "metadata": {},
   "outputs": [
    {
     "name": "stdout",
     "output_type": "stream",
     "text": [
      "[0        25.3191\n",
      "1        25.1513\n",
      "2        24.9834\n",
      "3        24.4799\n",
      "4        24.1442\n",
      "          ...   \n",
      "16379    -1.1906\n",
      "16380    -0.8549\n",
      "16381    -0.3514\n",
      "16382     0.3200\n",
      "16383     0.6557\n",
      "Name: 20, Length: 16384, dtype: float64, 0       -6.1891\n",
      "1       -5.5177\n",
      "2       -5.0141\n",
      "3       -4.5106\n",
      "4       -3.8392\n",
      "          ...  \n",
      "16379    3.1868\n",
      "16380    3.0190\n",
      "16381    3.0190\n",
      "16382    3.3547\n",
      "16383    3.3547\n",
      "Name: 20, Length: 16384, dtype: float64, 0        1.4916\n",
      "1        2.1630\n",
      "2        2.3308\n",
      "3        2.3308\n",
      "4        2.1630\n",
      "          ...  \n",
      "16379   -6.4196\n",
      "16380   -6.4196\n",
      "16381   -6.4196\n",
      "16382   -6.7553\n",
      "16383   -6.9231\n",
      "Name: 20, Length: 16384, dtype: float64, 0         6.5404\n",
      "1         6.7083\n",
      "2         7.0440\n",
      "3         7.0440\n",
      "4         7.0440\n",
      "          ...   \n",
      "16379   -44.3899\n",
      "16380   -40.6972\n",
      "16381   -36.1654\n",
      "16382   -31.6335\n",
      "16383   -26.9338\n",
      "Name: 20, Length: 16384, dtype: float64, 0       -28.4321\n",
      "1       -27.5929\n",
      "2       -27.0893\n",
      "3       -26.5858\n",
      "4       -25.9144\n",
      "          ...   \n",
      "16379   -19.7735\n",
      "16380   -18.2628\n",
      "16381   -16.9201\n",
      "16382   -15.0738\n",
      "16383   -13.3953\n",
      "Name: 20, Length: 16384, dtype: float64, 0       -15.0391\n",
      "1       -15.3748\n",
      "2       -15.7104\n",
      "3       -16.0461\n",
      "4       -16.0461\n",
      "          ...   \n",
      "16379    -2.6542\n",
      "16380    -0.8079\n",
      "16381     0.7027\n",
      "16382     1.7098\n",
      "16383     2.0455\n",
      "Name: 20, Length: 16384, dtype: float64, 0       -0.4174\n",
      "1       -0.7531\n",
      "2       -0.9209\n",
      "3       -1.0888\n",
      "4       -1.2566\n",
      "          ...  \n",
      "16379    5.3286\n",
      "16380    4.6572\n",
      "16381    4.4893\n",
      "16382    4.9929\n",
      "16383    6.0000\n",
      "Name: 20, Length: 16384, dtype: float64, 0        10.9548\n",
      "1        10.4513\n",
      "2         9.9477\n",
      "3         9.2763\n",
      "4         8.2692\n",
      "          ...   \n",
      "16379    -4.5453\n",
      "16380    -5.0488\n",
      "16381    -5.5524\n",
      "16382    -6.2238\n",
      "16383    -6.7273\n",
      "Name: 20, Length: 16384, dtype: float64, 0        10.0272\n",
      "1         8.6844\n",
      "2         7.1738\n",
      "3         5.6631\n",
      "4         4.9918\n",
      "          ...   \n",
      "16379     7.4591\n",
      "16380     7.4591\n",
      "16381     7.4591\n",
      "16382     7.6270\n",
      "16383     8.1305\n",
      "Name: 20, Length: 16384, dtype: float64, 0        -8.0119\n",
      "1        -8.3476\n",
      "2        -8.1797\n",
      "3        -7.5083\n",
      "4        -6.6691\n",
      "          ...   \n",
      "16379   -10.5296\n",
      "16380    -9.6903\n",
      "16381    -9.5225\n",
      "16382    -9.3547\n",
      "16383    -9.5225\n",
      "Name: 20, Length: 16384, dtype: float64, 0         0.2294\n",
      "1         0.2294\n",
      "2         0.0615\n",
      "3        -0.1063\n",
      "4        -0.6098\n",
      "          ...   \n",
      "16379    15.0849\n",
      "16380    15.5885\n",
      "16381    15.5885\n",
      "16382    15.2528\n",
      "16383    14.4136\n",
      "Name: 20, Length: 16384, dtype: float64, 0       -2.7672\n",
      "1       -1.4245\n",
      "2       -1.7602\n",
      "3        0.0862\n",
      "4        3.7788\n",
      "          ...  \n",
      "16379    0.1488\n",
      "16380    4.6807\n",
      "16381    7.0305\n",
      "16382    7.1984\n",
      "16383    6.1913\n",
      "Name: 20, Length: 16384, dtype: float64, 0        -0.5226\n",
      "1        -1.0261\n",
      "2        -0.5226\n",
      "3        -1.0261\n",
      "4         0.1488\n",
      "          ...   \n",
      "16379   -12.9824\n",
      "16380    -9.7933\n",
      "16381    -6.7721\n",
      "16382    -4.7579\n",
      "16383    -3.2473\n",
      "Name: 20, Length: 16384, dtype: float64, 0        10.8843\n",
      "1        11.8914\n",
      "2        11.5557\n",
      "3         9.8772\n",
      "4         7.3595\n",
      "          ...   \n",
      "16379     6.2652\n",
      "16380     6.4330\n",
      "16381     6.9365\n",
      "16382     8.1115\n",
      "16383     9.4542\n",
      "Name: 20, Length: 16384, dtype: float64, 0         5.3543\n",
      "1         2.5009\n",
      "2         0.8224\n",
      "3         0.6546\n",
      "4         1.9974\n",
      "          ...   \n",
      "16379    -9.3032\n",
      "16380   -13.3315\n",
      "16381   -16.1849\n",
      "16382   -17.5277\n",
      "16383   -17.5277\n",
      "Name: 20, Length: 16384, dtype: float64, 0        19.4490\n",
      "1        19.7846\n",
      "2        19.9525\n",
      "3        19.7846\n",
      "4        19.2811\n",
      "          ...   \n",
      "16379     6.7374\n",
      "16380     6.2338\n",
      "16381     5.5624\n",
      "16382     4.2197\n",
      "16383     2.8769\n",
      "Name: 20, Length: 16384, dtype: float64, 0         2.3107\n",
      "1         1.9750\n",
      "2         1.6393\n",
      "3         1.1358\n",
      "4         0.9679\n",
      "          ...   \n",
      "16379   -13.3405\n",
      "16380   -11.6620\n",
      "16381    -9.6478\n",
      "16382    -7.4658\n",
      "16383    -5.4517\n",
      "Name: 20, Length: 16384, dtype: float64, 0         6.6512\n",
      "1         7.9940\n",
      "2         9.6724\n",
      "3        10.8474\n",
      "4        11.8545\n",
      "          ...   \n",
      "16379   -28.7398\n",
      "16380   -28.5720\n",
      "16381   -28.4041\n",
      "16382   -28.4041\n",
      "16383   -28.4041\n",
      "Name: 20, Length: 16384, dtype: float64]\n"
     ]
    }
   ],
   "source": [
    "print(sixth)"
   ]
  },
  {
   "cell_type": "code",
   "execution_count": 353,
   "id": "ddf2fd0d",
   "metadata": {
    "scrolled": true
   },
   "outputs": [
    {
     "name": "stdout",
     "output_type": "stream",
     "text": [
      "(18, 16384)\n"
     ]
    }
   ],
   "source": [
    "print(np.shape(sixth))"
   ]
  },
  {
   "cell_type": "code",
   "execution_count": 354,
   "id": "a7c0ed94",
   "metadata": {},
   "outputs": [],
   "source": [
    "# hi=np.asarray(sixth) \n",
    "# hii=hi.reshape(38,15200)\n",
    "# req_data=hii"
   ]
  },
  {
   "cell_type": "code",
   "execution_count": 355,
   "id": "e8f3d4c8",
   "metadata": {},
   "outputs": [],
   "source": [
    "req_data=np.asarray(sixth)            # converting to np array"
   ]
  },
  {
   "cell_type": "code",
   "execution_count": 356,
   "id": "b166d551",
   "metadata": {},
   "outputs": [],
   "source": [
    "#norm=np.zeros(req_data.shape)\n",
    "# maxi=np.max(req_data[0])\n",
    "# mini=np.min(req_data[0])"
   ]
  },
  {
   "cell_type": "markdown",
   "id": "93f8ba95",
   "metadata": {},
   "source": [
    "Sci-Kit learn scaler"
   ]
  },
  {
   "cell_type": "code",
   "execution_count": 357,
   "id": "077759d1",
   "metadata": {},
   "outputs": [],
   "source": [
    "# #req=req_data[0:2]\n",
    "# scaler = MinMaxScaler()\n",
    "# scaler.fit(req_data)\n",
    "# data=scaler.transform(req_data)"
   ]
  },
  {
   "cell_type": "code",
   "execution_count": 358,
   "id": "32a87fd5",
   "metadata": {},
   "outputs": [
    {
     "name": "stdout",
     "output_type": "stream",
     "text": [
      "(18, 16384)\n"
     ]
    }
   ],
   "source": [
    "print(np.shape(req_data))"
   ]
  },
  {
   "cell_type": "code",
   "execution_count": 359,
   "id": "38f932f4",
   "metadata": {},
   "outputs": [],
   "source": [
    "def min_max():\n",
    "    norm=np.zeros(req_data.shape)\n",
    "    for i in range(req_data.shape[0]):\n",
    "        maxi=np.max(req_data[i])\n",
    "        mini=np.min(req_data[i])\n",
    "        for j in range(req_data.shape[1]):\n",
    "            norm[i:i+1,j:j+1]=(req_data[i:i+1,j:j+1]-mini)/(maxi-mini)\n",
    "    winsound.Beep(freq, duration)\n",
    "    return norm"
   ]
  },
  {
   "cell_type": "code",
   "execution_count": 360,
   "id": "c2d84aa1",
   "metadata": {},
   "outputs": [],
   "source": [
    "norm = min_max()"
   ]
  },
  {
   "cell_type": "code",
   "execution_count": 361,
   "id": "71e1ed24",
   "metadata": {},
   "outputs": [
    {
     "name": "stdout",
     "output_type": "stream",
     "text": [
      "[[0.73880824 0.73794724 0.73708573 ... 0.60708968 0.61053471 0.61225723]\n",
      " [0.38473283 0.38879435 0.39184079 ... 0.44043562 0.44246638 0.44246638]\n",
      " [0.67376242 0.68004198 0.6816114  ... 0.59976954 0.59662977 0.59506035]\n",
      " ...\n",
      " [0.76972418 0.77375993 0.77577901 ... 0.60273123 0.58658462 0.57043681]\n",
      " [0.27278928 0.27035078 0.26791228 ... 0.18592368 0.20177356 0.21640382]\n",
      " [0.57426205 0.58618076 0.60107826 ... 0.26311076 0.26311076 0.26311076]]\n"
     ]
    }
   ],
   "source": [
    "print(norm)"
   ]
  },
  {
   "cell_type": "markdown",
   "id": "e0750f6b",
   "metadata": {},
   "source": [
    "For time being norm ie. customized scaling shall be used instead of scikit learn preprocessor"
   ]
  },
  {
   "cell_type": "code",
   "execution_count": 362,
   "id": "534aa784",
   "metadata": {
    "scrolled": true
   },
   "outputs": [
    {
     "name": "stdout",
     "output_type": "stream",
     "text": [
      "1.0\n",
      "1\n",
      "1.0\n",
      "2\n",
      "1.0\n",
      "3\n",
      "1.0\n",
      "4\n",
      "1.0\n",
      "5\n",
      "1.0\n",
      "6\n",
      "1.0\n",
      "7\n",
      "1.0\n",
      "8\n",
      "1.0\n",
      "9\n",
      "1.0\n",
      "10\n",
      "1.0\n",
      "11\n",
      "1.0\n",
      "12\n",
      "1.0\n",
      "13\n",
      "1.0\n",
      "14\n",
      "1.0\n",
      "15\n",
      "1.0\n",
      "16\n",
      "1.0\n",
      "17\n",
      "1.0\n",
      "18\n"
     ]
    }
   ],
   "source": [
    "count=0\n",
    "for i in range(norm.shape[0]):\n",
    "    count+=1\n",
    "    print(norm[i].max())\n",
    "    print(count)"
   ]
  },
  {
   "cell_type": "code",
   "execution_count": 363,
   "id": "639a1d92",
   "metadata": {},
   "outputs": [],
   "source": [
    "norm_df=pd.DataFrame(norm)\n",
    "norm_df.to_excel(r\"C:\\Users\\mrsub\\ML\\Minor-Project I\\All data for 14 electrodes and 30 subjects\\Normalised Excel\\Eleventh\\target_val_norm_l.xlsx\",index=False)"
   ]
  },
  {
   "cell_type": "code",
   "execution_count": 364,
   "id": "2679ebd7",
   "metadata": {},
   "outputs": [
    {
     "data": {
      "text/plain": [
       "(18, 16384)"
      ]
     },
     "execution_count": 364,
     "metadata": {},
     "output_type": "execute_result"
    }
   ],
   "source": [
    "norm_df.shape"
   ]
  },
  {
   "cell_type": "code",
   "execution_count": null,
   "id": "18adb92a",
   "metadata": {},
   "outputs": [],
   "source": []
  },
  {
   "cell_type": "markdown",
   "id": "168dbddf",
   "metadata": {},
   "source": [
    "<b>Main Code</b>"
   ]
  },
  {
   "cell_type": "markdown",
   "id": "7d000451",
   "metadata": {},
   "source": [
    "intially numpy array is irr,probe,target (row wise) we hen make three columns of it"
   ]
  },
  {
   "cell_type": "code",
   "execution_count": 388,
   "id": "b17b9e35",
   "metadata": {},
   "outputs": [],
   "source": [
    "def open_file():\n",
    "#     paths=[] \n",
    "    var=Path(\"C:/Users/mrsub/ML/Minor-Project I/All data for 14 electrodes and 30 subjects/Normalised Excel/Eleventh/Validation\")\n",
    "    folder_path = str(input(\"Enter file Name with extension \"))\n",
    "    folder_path=var/folder_path\n",
    "    path=PureWindowsPath(folder_path)     #Unix to windows path\n",
    "    print(path)\n",
    "\n",
    "    data =pd.read_excel(path,header=None)\n",
    "    data.dropna(inplace = True)\n",
    "\n",
    "    winsound.Beep(freq, duration)\n",
    "    winsound.Beep(freq, duration)\n",
    "    winsound.Beep(freq, duration)\n",
    "    return data"
   ]
  },
  {
   "cell_type": "code",
   "execution_count": 389,
   "id": "8911e18f",
   "metadata": {},
   "outputs": [
    {
     "name": "stdout",
     "output_type": "stream",
     "text": [
      "Enter file Name with extension target_val_norm_h.xlsx\n",
      "C:\\Users\\mrsub\\ML\\Minor-Project I\\All data for 14 electrodes and 30 subjects\\Normalised Excel\\Eleventh\\Validation\\target_val_norm_h.xlsx\n",
      "       0         1         2         3         4         5         6      \\\n",
      "0   0.000000  1.000000  2.000000  3.000000  4.000000  5.000000  6.000000   \n",
      "1   0.468319  0.458022  0.450013  0.444292  0.438571  0.437427  0.442003   \n",
      "2   0.633494  0.637814  0.632055  0.617655  0.596057  0.574458  0.554299   \n",
      "3   0.539943  0.544311  0.541399  0.532663  0.518103  0.503542  0.488983   \n",
      "4   0.204684  0.204684  0.206719  0.211806  0.217910  0.224014  0.229101   \n",
      "5   0.491861  0.508194  0.524528  0.540862  0.553112  0.555153  0.546986   \n",
      "6   0.420476  0.414139  0.401466  0.379288  0.357110  0.331763  0.309586   \n",
      "7   0.706017  0.730517  0.748333  0.763924  0.772831  0.781740  0.783968   \n",
      "8   0.335069  0.341984  0.344288  0.351201  0.362725  0.376552  0.390379   \n",
      "9   0.245174  0.254347  0.266579  0.278811  0.291043  0.303274  0.310919   \n",
      "10  0.537663  0.542172  0.548937  0.557957  0.562466  0.553447  0.526389   \n",
      "11  0.151772  0.151772  0.152921  0.154069  0.156366  0.158663  0.159812   \n",
      "12  0.581971  0.578116  0.576190  0.574262  0.574262  0.574262  0.572336   \n",
      "13  0.371036  0.379913  0.391009  0.402103  0.410980  0.415418  0.419856   \n",
      "14  0.370244  0.367830  0.372657  0.379897  0.391963  0.404028  0.418507   \n",
      "15  0.352381  0.345554  0.341456  0.337360  0.333264  0.327802  0.323705   \n",
      "16  0.565426  0.555542  0.541702  0.529841  0.516001  0.502162  0.490300   \n",
      "17  0.282776  0.279167  0.277362  0.276459  0.277362  0.277362  0.278264   \n",
      "18  0.438874  0.441877  0.441877  0.438874  0.432867  0.426859  0.417847   \n",
      "\n",
      "       7         8         9      ...         16374         16375  \\\n",
      "0   7.000000  8.000000  9.000000  ...  16374.000000  16375.000000   \n",
      "1   0.450013  0.461454  0.476327  ...      0.440279      0.465451   \n",
      "2   0.538460  0.526940  0.521181  ...      0.702706      0.717105   \n",
      "3   0.475878  0.462774  0.451126  ...      0.327509      0.339157   \n",
      "4   0.236223  0.243344  0.252501  ...      0.228185      0.245481   \n",
      "5   0.528611  0.504110  0.481652  ...      0.655659      0.637284   \n",
      "6   0.300080  0.290576  0.290576  ...      0.119277      0.112940   \n",
      "7   0.783968  0.779514  0.772831  ...      0.810709      0.808481   \n",
      "8   0.399597  0.408816  0.415729  ...      0.504886      0.523321   \n",
      "9   0.318564  0.326208  0.332324  ...      0.420902      0.416315   \n",
      "10  0.485803  0.442962  0.409140  ...      0.476439      0.487712   \n",
      "11  0.158663  0.157515  0.156366  ...      0.191372      0.195966   \n",
      "12  0.568482  0.562700  0.554991  ...      0.532111      0.535965   \n",
      "13  0.422074  0.419856  0.417636  ...      0.521384      0.532478   \n",
      "14  0.430573  0.440225  0.445052  ...      0.424041      0.419215   \n",
      "15  0.322339  0.325071  0.330533  ...      0.471792      0.462234   \n",
      "16  0.484369  0.480415  0.480415  ...      0.308850      0.300942   \n",
      "17  0.277362  0.276459  0.273752  ...      0.306370      0.306370   \n",
      "18  0.408836  0.402828  0.399825  ...      0.455775      0.455775   \n",
      "\n",
      "           16376         16377         16378         16379         16380  \\\n",
      "0   16376.000000  16377.000000  16378.000000  16379.000000  16380.000000   \n",
      "1       0.491766      0.511216      0.519225      0.515793      0.500919   \n",
      "2       0.732944      0.744463      0.748783      0.747343      0.737264   \n",
      "3       0.358086      0.382838      0.413414      0.448359      0.483304   \n",
      "4       0.257690      0.266846      0.268881      0.263794      0.252602   \n",
      "5       0.610742      0.578075      0.549491      0.527032      0.510698   \n",
      "6       0.109770      0.112940      0.119277      0.122444      0.131950   \n",
      "7       0.804027      0.804027      0.799572      0.795118      0.790663   \n",
      "8       0.544064      0.569414      0.594764      0.615505      0.631636   \n",
      "9       0.405613      0.393381      0.382678      0.375033      0.370446   \n",
      "10      0.496732      0.501241      0.496732      0.485457      0.469674   \n",
      "11      0.200559      0.205153      0.207450      0.209747      0.209747   \n",
      "12      0.535965      0.532111      0.522476      0.510913      0.499351   \n",
      "13      0.541355      0.548013      0.552451      0.554669      0.556889   \n",
      "14      0.419215      0.419215      0.411976      0.399910      0.380605   \n",
      "15      0.451309      0.441751      0.433557      0.425364      0.418537   \n",
      "16      0.295010      0.287102      0.279195      0.271287      0.267333   \n",
      "17      0.305468      0.303663      0.299151      0.294639      0.290127   \n",
      "18      0.452771      0.446763      0.440755      0.437752      0.431745   \n",
      "\n",
      "           16381         16382         16383  \n",
      "0   16381.000000  16382.000000  16383.000000  \n",
      "1       0.476892      0.447144      0.416253  \n",
      "2       0.724304      0.711345      0.691187  \n",
      "3       0.516792      0.545913      0.567754  \n",
      "4       0.235307      0.213942      0.188507  \n",
      "5       0.494366      0.473948      0.451489  \n",
      "6       0.141454      0.154128      0.169968  \n",
      "7       0.781756      0.768393      0.757256  \n",
      "8       0.638551      0.636246      0.627028  \n",
      "9       0.370446      0.368918      0.365860  \n",
      "10      0.451635      0.440361      0.438107  \n",
      "11      0.208598      0.206301      0.205153  \n",
      "12      0.487789      0.478153      0.472373  \n",
      "13      0.556889      0.559107      0.565764  \n",
      "14      0.358886      0.337168      0.315449  \n",
      "15      0.414440      0.410343      0.404881  \n",
      "16      0.265355      0.267333      0.269309  \n",
      "17      0.287420      0.285615      0.283811  \n",
      "18      0.425737      0.413722      0.401706  \n",
      "\n",
      "[19 rows x 16384 columns]\n"
     ]
    }
   ],
   "source": [
    "data=open_file()\n",
    "print(data)"
   ]
  },
  {
   "cell_type": "code",
   "execution_count": 446,
   "id": "f4e33b87",
   "metadata": {},
   "outputs": [
    {
     "ename": "ModuleNotFoundError",
     "evalue": "No module named 'librosa'",
     "output_type": "error",
     "traceback": [
      "\u001b[1;31m---------------------------------------------------------------------------\u001b[0m",
      "\u001b[1;31mModuleNotFoundError\u001b[0m                       Traceback (most recent call last)",
      "\u001b[1;32m~\\AppData\\Local\\Temp/ipykernel_20680/2319644490.py\u001b[0m in \u001b[0;36m<module>\u001b[1;34m\u001b[0m\n\u001b[1;32m----> 1\u001b[1;33m \u001b[1;32mimport\u001b[0m \u001b[0mlibrosa\u001b[0m \u001b[1;32mas\u001b[0m \u001b[0mlibrosa\u001b[0m\u001b[1;33m\u001b[0m\u001b[1;33m\u001b[0m\u001b[0m\n\u001b[0m\u001b[0;32m      2\u001b[0m \u001b[0mzcrs\u001b[0m \u001b[1;33m=\u001b[0m \u001b[0mlibrosa\u001b[0m\u001b[1;33m.\u001b[0m\u001b[0mfeature\u001b[0m\u001b[1;33m.\u001b[0m\u001b[0mzero_crossing_rate\u001b[0m\u001b[1;33m(\u001b[0m\u001b[0mdata\u001b[0m\u001b[1;33m)\u001b[0m\u001b[1;33m\u001b[0m\u001b[1;33m\u001b[0m\u001b[0m\n",
      "\u001b[1;31mModuleNotFoundError\u001b[0m: No module named 'librosa'"
     ]
    }
   ],
   "source": [
    "import librosa as librosa\n",
    "zcrs = librosa.feature.zero_crossing_rate(data)"
   ]
  },
  {
   "cell_type": "code",
   "execution_count": 444,
   "id": "0e00ffdf",
   "metadata": {},
   "outputs": [
    {
     "data": {
      "text/plain": [
       "(array([ 0,  1,  1,  2,  2,  3,  3,  4,  4,  5,  5,  6,  6,  7,  7,  8,  8,\n",
       "         9,  9, 10, 10, 11, 11, 11, 11, 12, 12, 13, 13, 13, 13, 14, 14, 15,\n",
       "        15, 16, 16, 17, 17, 18, 18], dtype=int64),\n",
       " array([    0,  9134,  9135, 12607, 12608,  4288,  4290, 11975, 11976,\n",
       "         7997,  7998, 15788, 15790, 14098, 14099,  6838,  6839, 15045,\n",
       "        15046,  2049,  2050,  1592,  1595,  1598,  1599,   798,   799,\n",
       "         4759,  4761,  4790,  4792,  9583,  9584, 13594, 13595,   320,\n",
       "          321, 13432, 13433,  5199,  5201], dtype=int64))"
      ]
     },
     "execution_count": 444,
     "metadata": {},
     "output_type": "execute_result"
    }
   ],
   "source": [
    "# data.mean(axis = 1)\n",
    "zero_crosses"
   ]
  },
  {
   "cell_type": "code",
   "execution_count": 391,
   "id": "844ca8fa",
   "metadata": {},
   "outputs": [
    {
     "name": "stdout",
     "output_type": "stream",
     "text": [
      "[[0.47178729 0.56096657 0.45198209 0.26534339 0.54940587 0.41147495\n",
      "  0.67796234 0.40821228 0.32459226 0.53498954 0.19578697 0.56123624\n",
      "  0.42847722 0.44582162 0.49338172 0.48385595 0.29863048 0.47622909]]\n"
     ]
    }
   ],
   "source": [
    "x=np.asarray(data.mean(axis = 1)).reshape(1,-1)\n",
    "final_h=np.delete(x,0,axis=1)\n",
    "print(final_h)"
   ]
  },
  {
   "cell_type": "code",
   "execution_count": 1,
   "id": "c781e1c6",
   "metadata": {},
   "outputs": [
    {
     "ename": "NameError",
     "evalue": "name 'np' is not defined",
     "output_type": "error",
     "traceback": [
      "\u001b[1;31m---------------------------------------------------------------------------\u001b[0m",
      "\u001b[1;31mNameError\u001b[0m                                 Traceback (most recent call last)",
      "Cell \u001b[1;32mIn[1], line 1\u001b[0m\n\u001b[1;32m----> 1\u001b[0m X_train\u001b[38;5;241m=\u001b[39m\u001b[43mnp\u001b[49m\u001b[38;5;241m.\u001b[39mdelete(data,\u001b[38;5;241m0\u001b[39m,axis\u001b[38;5;241m=\u001b[39m\u001b[38;5;241m1\u001b[39m)\n\u001b[0;32m      2\u001b[0m np\u001b[38;5;241m.\u001b[39mshape(data)\n",
      "\u001b[1;31mNameError\u001b[0m: name 'np' is not defined"
     ]
    }
   ],
   "source": [
    "X_train=np.delete(data,0,axis=1)\n",
    "np.shape(data)"
   ]
  },
  {
   "cell_type": "code",
   "execution_count": 392,
   "id": "8f24f87f",
   "metadata": {
    "scrolled": true
   },
   "outputs": [],
   "source": [
    "honest=np.vstack([honest,final_h])"
   ]
  },
  {
   "cell_type": "code",
   "execution_count": 393,
   "id": "5e441269",
   "metadata": {},
   "outputs": [
    {
     "data": {
      "text/plain": [
       "(3, 18)"
      ]
     },
     "execution_count": 393,
     "metadata": {},
     "output_type": "execute_result"
    }
   ],
   "source": [
    "np.shape(honest)"
   ]
  },
  {
   "cell_type": "code",
   "execution_count": 394,
   "id": "39d398d1",
   "metadata": {},
   "outputs": [
    {
     "data": {
      "text/plain": [
       "array([[0.55128134, 0.45791755, 0.450304  , 0.3110389 , 0.46065342,\n",
       "        0.55786222, 0.69993566, 0.41881313, 0.45322563, 0.49413909,\n",
       "        0.50875908, 0.33435636, 0.44090468, 0.36217755, 0.68271929,\n",
       "        0.44340358, 0.31579593, 0.1584798 ],\n",
       "       [0.53567629, 0.50419045, 0.52206028, 0.39170311, 0.47252144,\n",
       "        0.51768451, 0.58144834, 0.39697036, 0.57598824, 0.29204829,\n",
       "        0.49106362, 0.56859128, 0.42189215, 0.325104  , 0.30952379,\n",
       "        0.24184516, 0.28473977, 0.20669986],\n",
       "       [0.47178729, 0.56096657, 0.45198209, 0.26534339, 0.54940587,\n",
       "        0.41147495, 0.67796234, 0.40821228, 0.32459226, 0.53498954,\n",
       "        0.19578697, 0.56123624, 0.42847722, 0.44582162, 0.49338172,\n",
       "        0.48385595, 0.29863048, 0.47622909]])"
      ]
     },
     "execution_count": 394,
     "metadata": {},
     "output_type": "execute_result"
    }
   ],
   "source": [
    "honest"
   ]
  },
  {
   "cell_type": "code",
   "execution_count": 395,
   "id": "a1055afd",
   "metadata": {},
   "outputs": [],
   "source": [
    "# honest=np.zeros(np.shape(final_h))"
   ]
  },
  {
   "cell_type": "code",
   "execution_count": 378,
   "id": "97304518",
   "metadata": {},
   "outputs": [],
   "source": [
    "# honest=np.delete(honest,0,axis=0)"
   ]
  },
  {
   "cell_type": "markdown",
   "id": "640cd049",
   "metadata": {},
   "source": [
    "<b>Here we make three columns [irrelevant,probe,target]</b>"
   ]
  },
  {
   "cell_type": "code",
   "execution_count": 396,
   "id": "d9e3433f",
   "metadata": {},
   "outputs": [],
   "source": [
    "honest=honest.transpose() "
   ]
  },
  {
   "cell_type": "code",
   "execution_count": 397,
   "id": "a839b68d",
   "metadata": {},
   "outputs": [
    {
     "data": {
      "text/plain": [
       "array([[0.55128134, 0.53567629, 0.47178729],\n",
       "       [0.45791755, 0.50419045, 0.56096657],\n",
       "       [0.450304  , 0.52206028, 0.45198209],\n",
       "       [0.3110389 , 0.39170311, 0.26534339],\n",
       "       [0.46065342, 0.47252144, 0.54940587],\n",
       "       [0.55786222, 0.51768451, 0.41147495],\n",
       "       [0.69993566, 0.58144834, 0.67796234],\n",
       "       [0.41881313, 0.39697036, 0.40821228],\n",
       "       [0.45322563, 0.57598824, 0.32459226],\n",
       "       [0.49413909, 0.29204829, 0.53498954],\n",
       "       [0.50875908, 0.49106362, 0.19578697],\n",
       "       [0.33435636, 0.56859128, 0.56123624],\n",
       "       [0.44090468, 0.42189215, 0.42847722],\n",
       "       [0.36217755, 0.325104  , 0.44582162],\n",
       "       [0.68271929, 0.30952379, 0.49338172],\n",
       "       [0.44340358, 0.24184516, 0.48385595],\n",
       "       [0.31579593, 0.28473977, 0.29863048],\n",
       "       [0.1584798 , 0.20669986, 0.47622909]])"
      ]
     },
     "execution_count": 397,
     "metadata": {},
     "output_type": "execute_result"
    }
   ],
   "source": [
    "honest"
   ]
  },
  {
   "cell_type": "code",
   "execution_count": 432,
   "id": "1b7ba484",
   "metadata": {},
   "outputs": [
    {
     "data": {
      "text/plain": [
       "array([[1.],\n",
       "       [1.],\n",
       "       [1.],\n",
       "       [1.],\n",
       "       [1.],\n",
       "       [1.],\n",
       "       [1.],\n",
       "       [1.],\n",
       "       [1.],\n",
       "       [1.],\n",
       "       [1.],\n",
       "       [1.],\n",
       "       [1.],\n",
       "       [1.],\n",
       "       [1.],\n",
       "       [1.],\n",
       "       [1.],\n",
       "       [1.]])"
      ]
     },
     "execution_count": 432,
     "metadata": {},
     "output_type": "execute_result"
    }
   ],
   "source": [
    "honest_y=np.ones((18,1))\n",
    "honest_y"
   ]
  },
  {
   "cell_type": "code",
   "execution_count": 399,
   "id": "cfb01aaf",
   "metadata": {},
   "outputs": [],
   "source": [
    "# honest=np.delete(honest,(0),axis=0)"
   ]
  },
  {
   "cell_type": "code",
   "execution_count": 413,
   "id": "17cc608e",
   "metadata": {},
   "outputs": [
    {
     "name": "stdout",
     "output_type": "stream",
     "text": [
      "Enter file Name with extension target_val_norm_l.xlsx\n",
      "C:\\Users\\mrsub\\ML\\Minor-Project I\\All data for 14 electrodes and 30 subjects\\Normalised Excel\\Eleventh\\Validation\\target_val_norm_l.xlsx\n",
      "       0         1         2         3         4         5         6      \\\n",
      "0   0.000000  1.000000  2.000000  3.000000  4.000000  5.000000  6.000000   \n",
      "1   0.738808  0.737947  0.737086  0.734502  0.732780  0.731918  0.732780   \n",
      "2   0.384733  0.388794  0.391841  0.394887  0.398948  0.401994  0.406055   \n",
      "3   0.673762  0.680042  0.681611  0.681611  0.680042  0.673762  0.667483   \n",
      "4   0.500344  0.501062  0.502498  0.502498  0.502498  0.500344  0.497474   \n",
      "5   0.494095  0.497247  0.499139  0.501030  0.503551  0.506073  0.508595   \n",
      "6   0.291357  0.287686  0.284016  0.280344  0.280344  0.278508  0.276673   \n",
      "7   0.409373  0.404047  0.401385  0.398721  0.396059  0.390733  0.382745   \n",
      "8   0.636238  0.629119  0.621999  0.612507  0.598268  0.586403  0.569792   \n",
      "9   0.666152  0.644563  0.620276  0.595988  0.585195  0.585195  0.593290   \n",
      "10  0.398226  0.393706  0.395967  0.405005  0.416303  0.427601  0.434381   \n",
      "11  0.434792  0.434792  0.432133  0.429476  0.421502  0.408211  0.389606   \n",
      "12  0.434882  0.453979  0.449205  0.475467  0.527988  0.570960  0.590059   \n",
      "13  0.466443  0.458538  0.466443  0.458538  0.476985  0.519150  0.529691   \n",
      "14  0.654058  0.662903  0.659955  0.645214  0.623103  0.600992  0.583304   \n",
      "15  0.526107  0.499856  0.484414  0.482870  0.495224  0.516842  0.540005   \n",
      "16  0.769724  0.773760  0.775779  0.773760  0.767705  0.749539  0.713207   \n",
      "17  0.272789  0.270351  0.267912  0.264255  0.263035  0.263035  0.263035   \n",
      "18  0.574262  0.586181  0.601078  0.611508  0.620447  0.626405  0.629385   \n",
      "\n",
      "       7         8         9      ...         16374         16375  \\\n",
      "0   7.000000  8.000000  9.000000  ...  16374.000000  16375.000000   \n",
      "1   0.733641  0.734502  0.734502  ...      0.603645      0.602784   \n",
      "2   0.408086  0.408086  0.404025  ...      0.468866      0.462773   \n",
      "3   0.661203  0.656494  0.650215  ...      0.595060      0.593490   \n",
      "4   0.494603  0.491015  0.487427  ...      0.289043      0.276125   \n",
      "5   0.510486  0.511116  0.511746  ...      0.510225      0.512116   \n",
      "6   0.280344  0.284016  0.289522  ...      0.360721      0.371736   \n",
      "7   0.377419  0.372094  0.369430  ...      0.577756      0.575094   \n",
      "8   0.555553  0.543688  0.531822  ...      0.443196      0.445569   \n",
      "9   0.606782  0.617577  0.633769  ...      0.654547      0.649150   \n",
      "10  0.441159  0.445679  0.454717  ...      0.307841      0.314619   \n",
      "11  0.363026  0.333788  0.307208  ...      0.579669      0.595616   \n",
      "12  0.582898  0.542313  0.504114  ...      0.462033      0.440547   \n",
      "13  0.519150  0.508609  0.471714  ...      0.444747      0.378864   \n",
      "14  0.570037  0.555297  0.542031  ...      0.657714      0.645922   \n",
      "15  0.555447  0.564713  0.564713  ...      0.576561      0.533324   \n",
      "16  0.656691  0.596138  0.545678  ...      0.538141      0.572455   \n",
      "17  0.265474  0.265474  0.265474  ...      0.157881      0.154224   \n",
      "18  0.626405  0.621936  0.614487  ...      0.255661      0.254172   \n",
      "\n",
      "           16376         16377         16378         16379         16380  \\\n",
      "0   16376.000000  16377.000000  16378.000000  16379.000000  16380.000000   \n",
      "1       0.601923      0.601923      0.601923      0.602784      0.604506   \n",
      "2       0.456681      0.449574      0.444497      0.441451      0.440436   \n",
      "3       0.595060      0.595060      0.596630      0.599770      0.599770   \n",
      "4       0.267513      0.264643      0.270384      0.282584      0.298373   \n",
      "5       0.515268      0.518420      0.521572      0.526615      0.532289   \n",
      "6       0.382750      0.395599      0.410285      0.426806      0.446998   \n",
      "7       0.561778      0.543138      0.521835      0.500533      0.489881   \n",
      "8       0.443196      0.436077      0.426584      0.417092      0.409973   \n",
      "9       0.638356      0.630261      0.627563      0.624863      0.624863   \n",
      "10      0.325917      0.339475      0.353033      0.364331      0.375630   \n",
      "11      0.619539      0.640802      0.659409      0.670039      0.678014   \n",
      "12      0.452484      0.454871      0.445322      0.476357      0.540816   \n",
      "13      0.323525      0.291901      0.262913      0.270818      0.320889   \n",
      "14      0.635604      0.625285      0.617915      0.613493      0.614966   \n",
      "15      0.496263      0.463835      0.429863      0.391258      0.354197   \n",
      "16      0.600713      0.614842      0.620898      0.616861      0.610805   \n",
      "17      0.150566      0.150566      0.153004      0.159100      0.171293   \n",
      "18      0.252681      0.252681      0.255661      0.260131      0.261620   \n",
      "\n",
      "           16381         16382         16383  \n",
      "0   16381.000000  16382.000000  16383.000000  \n",
      "1       0.607090      0.610535      0.612257  \n",
      "2       0.440436      0.442466      0.442466  \n",
      "3       0.599770      0.596630      0.595060  \n",
      "4       0.317749      0.337126      0.357220  \n",
      "5       0.537332      0.544267      0.550571  \n",
      "6       0.463519      0.474533      0.478204  \n",
      "7       0.487218      0.495207      0.511185  \n",
      "8       0.402853      0.393361      0.386242  \n",
      "9       0.624863      0.627563      0.635658  \n",
      "10      0.377889      0.380148      0.377889  \n",
      "11      0.678014      0.672698      0.659409  \n",
      "12      0.574239      0.576627      0.562302  \n",
      "13      0.368323      0.399947      0.423664  \n",
      "14      0.619388      0.629707      0.641499  \n",
      "15      0.327946      0.315592      0.315592  \n",
      "16      0.602731      0.586585      0.570437  \n",
      "17      0.185924      0.201774      0.216404  \n",
      "18      0.263111      0.263111      0.263111  \n",
      "\n",
      "[19 rows x 16384 columns]\n"
     ]
    }
   ],
   "source": [
    "data_l=open_file()\n",
    "print(data_l)"
   ]
  },
  {
   "cell_type": "code",
   "execution_count": 414,
   "id": "abd66e53",
   "metadata": {},
   "outputs": [
    {
     "name": "stdout",
     "output_type": "stream",
     "text": [
      "[[0.5993537  0.4213922  0.63984484 0.4594381  0.60965989 0.43834142\n",
      "  0.43156201 0.47002099 0.51014686 0.50168676 0.49221442 0.46172007\n",
      "  0.45836355 0.5542733  0.50299371 0.55028459 0.27331241 0.52287943]]\n"
     ]
    }
   ],
   "source": [
    "y=np.asarray(data_l.mean(axis = 1)).reshape(1,-1)\n",
    "final_l=np.delete(y,0,axis=1)\n",
    "print(final_l)"
   ]
  },
  {
   "cell_type": "code",
   "execution_count": 415,
   "id": "e2568699",
   "metadata": {},
   "outputs": [],
   "source": [
    "# lying=np.zeros((1,18))"
   ]
  },
  {
   "cell_type": "code",
   "execution_count": 416,
   "id": "b7b60252",
   "metadata": {},
   "outputs": [],
   "source": [
    "lying=np.vstack([lying,final_l])"
   ]
  },
  {
   "cell_type": "code",
   "execution_count": 417,
   "id": "3da0b932",
   "metadata": {},
   "outputs": [
    {
     "data": {
      "text/plain": [
       "array([[0.58452027, 0.41965459, 0.52322412, 0.56191428, 0.42718334,\n",
       "        0.52670458, 0.5124958 , 0.51731515, 0.56836398, 0.49481826,\n",
       "        0.27979432, 0.51803435, 0.51339376, 0.60087476, 0.48087044,\n",
       "        0.58511516, 0.32908408, 0.45322431],\n",
       "       [0.55128134, 0.45791755, 0.450304  , 0.3110389 , 0.46065342,\n",
       "        0.55786222, 0.69993566, 0.41881313, 0.45322563, 0.49413909,\n",
       "        0.50875908, 0.54035884, 0.3195427 , 0.63339253, 0.45432112,\n",
       "        0.47751451, 0.47922005, 0.50678441],\n",
       "       [0.5993537 , 0.4213922 , 0.63984484, 0.4594381 , 0.60965989,\n",
       "        0.43834142, 0.43156201, 0.47002099, 0.51014686, 0.50168676,\n",
       "        0.49221442, 0.46172007, 0.45836355, 0.5542733 , 0.50299371,\n",
       "        0.55028459, 0.27331241, 0.52287943]])"
      ]
     },
     "execution_count": 417,
     "metadata": {},
     "output_type": "execute_result"
    }
   ],
   "source": [
    "lying"
   ]
  },
  {
   "cell_type": "code",
   "execution_count": 418,
   "id": "c14bf1c6",
   "metadata": {},
   "outputs": [
    {
     "data": {
      "text/plain": [
       "(3, 18)"
      ]
     },
     "execution_count": 418,
     "metadata": {},
     "output_type": "execute_result"
    }
   ],
   "source": [
    "np.shape(lying)"
   ]
  },
  {
   "cell_type": "code",
   "execution_count": 419,
   "id": "56d5e202",
   "metadata": {},
   "outputs": [],
   "source": [
    "# lying=np.delete(lying,(0),axis=0)"
   ]
  },
  {
   "cell_type": "code",
   "execution_count": 420,
   "id": "2eda9a32",
   "metadata": {},
   "outputs": [],
   "source": [
    "# a=np.asarray(final_l.mean(axis = -1))\n",
    "# print(a)\n",
    "# final_l=np.append(final_l,a)"
   ]
  },
  {
   "cell_type": "code",
   "execution_count": 421,
   "id": "f82b1df9",
   "metadata": {},
   "outputs": [],
   "source": [
    "lying=lying.transpose()"
   ]
  },
  {
   "cell_type": "code",
   "execution_count": 422,
   "id": "3fa849ff",
   "metadata": {},
   "outputs": [
    {
     "data": {
      "text/plain": [
       "array([[0.58452027, 0.55128134, 0.5993537 ],\n",
       "       [0.41965459, 0.45791755, 0.4213922 ],\n",
       "       [0.52322412, 0.450304  , 0.63984484],\n",
       "       [0.56191428, 0.3110389 , 0.4594381 ],\n",
       "       [0.42718334, 0.46065342, 0.60965989],\n",
       "       [0.52670458, 0.55786222, 0.43834142],\n",
       "       [0.5124958 , 0.69993566, 0.43156201],\n",
       "       [0.51731515, 0.41881313, 0.47002099],\n",
       "       [0.56836398, 0.45322563, 0.51014686],\n",
       "       [0.49481826, 0.49413909, 0.50168676],\n",
       "       [0.27979432, 0.50875908, 0.49221442],\n",
       "       [0.51803435, 0.54035884, 0.46172007],\n",
       "       [0.51339376, 0.3195427 , 0.45836355],\n",
       "       [0.60087476, 0.63339253, 0.5542733 ],\n",
       "       [0.48087044, 0.45432112, 0.50299371],\n",
       "       [0.58511516, 0.47751451, 0.55028459],\n",
       "       [0.32908408, 0.47922005, 0.27331241],\n",
       "       [0.45322431, 0.50678441, 0.52287943]])"
      ]
     },
     "execution_count": 422,
     "metadata": {},
     "output_type": "execute_result"
    }
   ],
   "source": [
    "lying"
   ]
  },
  {
   "cell_type": "code",
   "execution_count": 433,
   "id": "2a749db2",
   "metadata": {},
   "outputs": [
    {
     "data": {
      "text/plain": [
       "array([[0.],\n",
       "       [0.],\n",
       "       [0.],\n",
       "       [0.],\n",
       "       [0.],\n",
       "       [0.],\n",
       "       [0.],\n",
       "       [0.],\n",
       "       [0.],\n",
       "       [0.],\n",
       "       [0.],\n",
       "       [0.],\n",
       "       [0.],\n",
       "       [0.],\n",
       "       [0.],\n",
       "       [0.],\n",
       "       [0.],\n",
       "       [0.]])"
      ]
     },
     "execution_count": 433,
     "metadata": {},
     "output_type": "execute_result"
    }
   ],
   "source": [
    "lying_y=np.zeros((18,1))\n",
    "lying_y"
   ]
  },
  {
   "cell_type": "code",
   "execution_count": 424,
   "id": "11bc94cc",
   "metadata": {},
   "outputs": [],
   "source": [
    "x_train=np.vstack([honest,lying])"
   ]
  },
  {
   "cell_type": "code",
   "execution_count": 425,
   "id": "32f02e4b",
   "metadata": {},
   "outputs": [
    {
     "data": {
      "text/plain": [
       "array([[0.55128134, 0.53567629, 0.47178729],\n",
       "       [0.45791755, 0.50419045, 0.56096657],\n",
       "       [0.450304  , 0.52206028, 0.45198209],\n",
       "       [0.3110389 , 0.39170311, 0.26534339],\n",
       "       [0.46065342, 0.47252144, 0.54940587],\n",
       "       [0.55786222, 0.51768451, 0.41147495],\n",
       "       [0.69993566, 0.58144834, 0.67796234],\n",
       "       [0.41881313, 0.39697036, 0.40821228],\n",
       "       [0.45322563, 0.57598824, 0.32459226],\n",
       "       [0.49413909, 0.29204829, 0.53498954],\n",
       "       [0.50875908, 0.49106362, 0.19578697],\n",
       "       [0.33435636, 0.56859128, 0.56123624],\n",
       "       [0.44090468, 0.42189215, 0.42847722],\n",
       "       [0.36217755, 0.325104  , 0.44582162],\n",
       "       [0.68271929, 0.30952379, 0.49338172],\n",
       "       [0.44340358, 0.24184516, 0.48385595],\n",
       "       [0.31579593, 0.28473977, 0.29863048],\n",
       "       [0.1584798 , 0.20669986, 0.47622909],\n",
       "       [0.58452027, 0.55128134, 0.5993537 ],\n",
       "       [0.41965459, 0.45791755, 0.4213922 ],\n",
       "       [0.52322412, 0.450304  , 0.63984484],\n",
       "       [0.56191428, 0.3110389 , 0.4594381 ],\n",
       "       [0.42718334, 0.46065342, 0.60965989],\n",
       "       [0.52670458, 0.55786222, 0.43834142],\n",
       "       [0.5124958 , 0.69993566, 0.43156201],\n",
       "       [0.51731515, 0.41881313, 0.47002099],\n",
       "       [0.56836398, 0.45322563, 0.51014686],\n",
       "       [0.49481826, 0.49413909, 0.50168676],\n",
       "       [0.27979432, 0.50875908, 0.49221442],\n",
       "       [0.51803435, 0.54035884, 0.46172007],\n",
       "       [0.51339376, 0.3195427 , 0.45836355],\n",
       "       [0.60087476, 0.63339253, 0.5542733 ],\n",
       "       [0.48087044, 0.45432112, 0.50299371],\n",
       "       [0.58511516, 0.47751451, 0.55028459],\n",
       "       [0.32908408, 0.47922005, 0.27331241],\n",
       "       [0.45322431, 0.50678441, 0.52287943]])"
      ]
     },
     "execution_count": 425,
     "metadata": {},
     "output_type": "execute_result"
    }
   ],
   "source": [
    "(x_train)"
   ]
  },
  {
   "cell_type": "code",
   "execution_count": 434,
   "id": "b9c82e1b",
   "metadata": {},
   "outputs": [],
   "source": [
    "y_train=np.vstack([honest_y,lying_y])"
   ]
  },
  {
   "cell_type": "code",
   "execution_count": 435,
   "id": "ca206971",
   "metadata": {},
   "outputs": [
    {
     "data": {
      "text/plain": [
       "array([[1.],\n",
       "       [1.],\n",
       "       [1.],\n",
       "       [1.],\n",
       "       [1.],\n",
       "       [1.],\n",
       "       [1.],\n",
       "       [1.],\n",
       "       [1.],\n",
       "       [1.],\n",
       "       [1.],\n",
       "       [1.],\n",
       "       [1.],\n",
       "       [1.],\n",
       "       [1.],\n",
       "       [1.],\n",
       "       [1.],\n",
       "       [1.],\n",
       "       [0.],\n",
       "       [0.],\n",
       "       [0.],\n",
       "       [0.],\n",
       "       [0.],\n",
       "       [0.],\n",
       "       [0.],\n",
       "       [0.],\n",
       "       [0.],\n",
       "       [0.],\n",
       "       [0.],\n",
       "       [0.],\n",
       "       [0.],\n",
       "       [0.],\n",
       "       [0.],\n",
       "       [0.],\n",
       "       [0.],\n",
       "       [0.]])"
      ]
     },
     "execution_count": 435,
     "metadata": {},
     "output_type": "execute_result"
    }
   ],
   "source": [
    "y_train"
   ]
  },
  {
   "cell_type": "code",
   "execution_count": 436,
   "id": "98e8870d",
   "metadata": {},
   "outputs": [
    {
     "name": "stdout",
     "output_type": "stream",
     "text": [
      "(36, 3)\n",
      "(36, 1)\n"
     ]
    }
   ],
   "source": [
    "print(np.shape(x_train))\n",
    "print(np.shape(y_train))"
   ]
  },
  {
   "cell_type": "code",
   "execution_count": 437,
   "id": "a6056da4",
   "metadata": {},
   "outputs": [],
   "source": [
    "norm_df=pd.DataFrame(y_train)\n",
    "norm_df.to_excel(r'C:\\Users\\mrsub\\ML\\Minor-Project I\\All data for 14 electrodes and 30 subjects\\Normalised Excel\\y_val11.xlsx',index=False)"
   ]
  },
  {
   "cell_type": "code",
   "execution_count": null,
   "id": "58df4870",
   "metadata": {},
   "outputs": [],
   "source": []
  }
 ],
 "metadata": {
  "kernelspec": {
   "display_name": "Python 3 (ipykernel)",
   "language": "python",
   "name": "python3"
  },
  "language_info": {
   "codemirror_mode": {
    "name": "ipython",
    "version": 3
   },
   "file_extension": ".py",
   "mimetype": "text/x-python",
   "name": "python",
   "nbconvert_exporter": "python",
   "pygments_lexer": "ipython3",
   "version": "3.9.7"
  }
 },
 "nbformat": 4,
 "nbformat_minor": 5
}
